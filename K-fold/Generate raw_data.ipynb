{
 "cells": [
  {
   "cell_type": "markdown",
   "metadata": {},
   "source": [
    "# jupyter notebook for generating the .csv file which contains the raw data"
   ]
  },
  {
   "cell_type": "code",
   "execution_count": null,
   "metadata": {},
   "outputs": [],
   "source": [
    "import numpy as np\n",
    "import pandas as pd\n",
    "import csv\n",
    "from os import listdir\n"
   ]
  },
  {
   "cell_type": "code",
   "execution_count": null,
   "metadata": {},
   "outputs": [],
   "source": [
    "#setA = r'/home/jv/Downloads/training_setA/training/';\n",
    "#setB = r'/home/jv/Downloads/training_setB/';\n",
    "setA = r'C:\\Users/r0631/Downloads/training-sepsis/training_setA/training/'\n",
    "setB = r'C:\\Users/r0631/Downloads/training-sepsis/training_setB/'\n",
    "a_traincsv = listdir(setA)\n",
    "b_traincsv = listdir(setB)\n",
    "data_size = 200"
   ]
  },
  {
   "cell_type": "code",
   "execution_count": null,
   "metadata": {},
   "outputs": [],
   "source": [
    "#filename = '/raw_data_SetA/raw_data_'+str(data_size)+'.csv'\n",
    "#print(ilename)"
   ]
  },
  {
   "cell_type": "code",
   "execution_count": null,
   "metadata": {},
   "outputs": [],
   "source": [
    "#data_size = 100\n",
    "filename = './raw_data/raw_data_all.csv'\n",
    "print(filename)\n",
    "with open(filename, 'w') as csvoutput:\n",
    "    writer = csv.writer(csvoutput, lineterminator='\\n')\n",
    "    \n",
    "    for ind, csv_name in enumerate(a_traincsv):\n",
    "        with open(setA + csv_name,'r') as csvinput:\n",
    "            reader = csv.reader(csvinput, delimiter='|')\n",
    "            all = []\n",
    "            if ind ==0 :\n",
    "                row = next(reader)\n",
    "                row.append('Patient_id')\n",
    "                row.append('time')\n",
    "                all.append(row)\n",
    "            else:\n",
    "                row = next(reader)\n",
    "\n",
    "            for i,row in enumerate(reader):\n",
    "                row.append(ind+1)\n",
    "                row.append(i)\n",
    "                all.append(row)\n",
    "            writer.writerows(all)\n",
    "\n",
    "        num = ind\n",
    "    print('A:',ind)\n",
    "#         if ind == (data_size/2)-1:\n",
    "#             print('A:',ind)\n",
    "#             break\n",
    "        \n",
    "    for inde, csv_name in enumerate(b_traincsv, start=1):\n",
    "        num = num+1\n",
    "        with open(setB + csv_name,'r') as csvinput:\n",
    "            reader = csv.reader(csvinput, delimiter='|')\n",
    "            all = []\n",
    "            row = next(reader)\n",
    "\n",
    "            for i,row in enumerate(reader):\n",
    "                row.append(num+1)\n",
    "                row.append(i)\n",
    "                all.append(row)\n",
    "        writer.writerows(all)\n",
    "    print('B:',inde)\n",
    "\n",
    "#         if inde == (data_size/2):\n",
    "#             print('B:',num)\n",
    "#             break"
   ]
  },
  {
   "cell_type": "code",
   "execution_count": null,
   "metadata": {},
   "outputs": [],
   "source": [
    "from pandas import read_csv\n",
    "originalData = read_csv(filename)\n",
    "patient_size=np.unique(originalData['Patient_id'])\n",
    "#print(patient_size)\n",
    "print(len(patient_size))\n"
   ]
  },
  {
   "cell_type": "code",
   "execution_count": null,
   "metadata": {},
   "outputs": [],
   "source": [
    "df= read_csv('./raw_data_SetA/raw_data_200.csv')\n",
    "SetA=np.unique(df['Patient_id'])\n",
    "print(SetA)\n",
    "print(len(SetA))"
   ]
  },
  {
   "cell_type": "code",
   "execution_count": null,
   "metadata": {},
   "outputs": [],
   "source": [
    "data_size = 4000\n",
    "\n",
    "# dataset = setA\n",
    "# train_csv = a_traincsv\n",
    "# filename = './raw_data_SetA/raw_data_'+str(data_size)+'.csv'\n",
    "dataset = setB\n",
    "train_csv = b_traincsv\n",
    "filename = './raw_data_SetB/raw_data_'+str(data_size)+'.csv'\n",
    "\n",
    "print(filename)\n",
    "with open(filename, 'w') as csvoutput:\n",
    "    writer = csv.writer(csvoutput, lineterminator='\\n')\n",
    "    \n",
    "    for ind, csv_name in enumerate(train_csv):\n",
    "        with open(dataset + csv_name,'r') as csvinput:\n",
    "            reader = csv.reader(csvinput, delimiter='|')\n",
    "            all = []\n",
    "            if ind ==0 :\n",
    "                row = next(reader)\n",
    "                row.append('Patient_id')\n",
    "                row.append('time')\n",
    "                all.append(row)\n",
    "            else:\n",
    "                row = next(reader)\n",
    "\n",
    "            for i,row in enumerate(reader):\n",
    "                row.append(ind+1)\n",
    "                row.append(i)\n",
    "                all.append(row)\n",
    "            writer.writerows(all)\n",
    "\n",
    "        num = ind\n",
    "        if ind == (data_size-1):\n",
    "            print('A:',ind)\n",
    "            break"
   ]
  },
  {
   "cell_type": "code",
   "execution_count": null,
   "metadata": {},
   "outputs": [],
   "source": [
    "df = pd.read_csv(filename)\n",
    "print(df.shape)\n",
    "df.head(15)\n",
    "df['Patient_id'].value_counts()"
   ]
  },
  {
   "cell_type": "code",
   "execution_count": null,
   "metadata": {},
   "outputs": [],
   "source": []
  }
 ],
 "metadata": {
  "kernelspec": {
   "display_name": "Python 3",
   "language": "python",
   "name": "python3"
  },
  "language_info": {
   "codemirror_mode": {
    "name": "ipython",
    "version": 3
   },
   "file_extension": ".py",
   "mimetype": "text/x-python",
   "name": "python",
   "nbconvert_exporter": "python",
   "pygments_lexer": "ipython3",
   "version": "3.8.5"
  }
 },
 "nbformat": 4,
 "nbformat_minor": 4
}
