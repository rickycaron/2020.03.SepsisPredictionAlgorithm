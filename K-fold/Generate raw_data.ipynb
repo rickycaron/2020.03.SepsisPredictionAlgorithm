{
 "cells": [
  {
   "cell_type": "markdown",
   "metadata": {},
   "source": [
    "# jupyter notebook for generating the .csv file which contains the raw data"
   ]
  },
  {
   "cell_type": "code",
   "execution_count": 5,
   "metadata": {},
   "outputs": [],
   "source": [
    "import numpy as np\n",
    "import pandas as pd\n",
    "import csv\n",
    "from os import listdir\n"
   ]
  },
  {
   "cell_type": "code",
   "execution_count": 6,
   "metadata": {},
   "outputs": [],
   "source": [
    "#setA = r'/home/jv/Downloads/training_setA/training/';\n",
    "#setB = r'/home/jv/Downloads/training_setB/';\n",
    "setA = r'C:\\Users/r0631/Downloads/training-sepsis/training_setA/training/'\n",
    "setB = r'C:\\Users/r0631/Downloads/training-sepsis/training_setB/'\n",
    "a_traincsv = listdir(setA)\n",
    "b_traincsv = listdir(setB)\n",
    "data_size = 200"
   ]
  },
  {
   "cell_type": "code",
   "execution_count": 7,
   "metadata": {},
   "outputs": [],
   "source": [
    "#filename = '/raw_data_SetA/raw_data_'+str(data_size)+'.csv'\n",
    "#print(ilename)"
   ]
  },
  {
   "cell_type": "code",
   "execution_count": 11,
   "metadata": {},
   "outputs": [
    {
     "name": "stdout",
     "output_type": "stream",
     "text": [
      "./raw_data/raw_data_all.csv\n",
      "A: 20335\n",
      "B: 20000\n"
     ]
    }
   ],
   "source": [
    "#data_size = 100\n",
    "filename = './raw_data/raw_data_all.csv'\n",
    "print(filename)\n",
    "with open(filename, 'w') as csvoutput:\n",
    "    writer = csv.writer(csvoutput, lineterminator='\\n')\n",
    "    \n",
    "    for ind, csv_name in enumerate(a_traincsv):\n",
    "        with open(setA + csv_name,'r') as csvinput:\n",
    "            reader = csv.reader(csvinput, delimiter='|')\n",
    "            all = []\n",
    "            if ind ==0 :\n",
    "                row = next(reader)\n",
    "                row.append('Patient_id')\n",
    "                row.append('time')\n",
    "                all.append(row)\n",
    "            else:\n",
    "                row = next(reader)\n",
    "\n",
    "            for i,row in enumerate(reader):\n",
    "                row.append(ind+1)\n",
    "                row.append(i)\n",
    "                all.append(row)\n",
    "            writer.writerows(all)\n",
    "\n",
    "        num = ind\n",
    "    print('A:',ind)\n",
    "#         if ind == (data_size/2)-1:\n",
    "#             print('A:',ind)\n",
    "#             break\n",
    "        \n",
    "    for inde, csv_name in enumerate(b_traincsv, start=1):\n",
    "        num = num+1\n",
    "        with open(setB + csv_name,'r') as csvinput:\n",
    "            reader = csv.reader(csvinput, delimiter='|')\n",
    "            all = []\n",
    "            row = next(reader)\n",
    "\n",
    "            for i,row in enumerate(reader):\n",
    "                row.append(num+1)\n",
    "                row.append(i)\n",
    "                all.append(row)\n",
    "        writer.writerows(all)\n",
    "    print('B:',inde)\n",
    "\n",
    "#         if inde == (data_size/2):\n",
    "#             print('B:',num)\n",
    "#             break"
   ]
  },
  {
   "cell_type": "code",
   "execution_count": 12,
   "metadata": {},
   "outputs": [
    {
     "name": "stdout",
     "output_type": "stream",
     "text": [
      "40336\n"
     ]
    }
   ],
   "source": [
    "from pandas import read_csv\n",
    "originalData = read_csv(filename)\n",
    "patient_size=np.unique(originalData['Patient_id'])\n",
    "#print(patient_size)\n",
    "print(len(patient_size))\n"
   ]
  },
  {
   "cell_type": "code",
   "execution_count": 18,
   "metadata": {},
   "outputs": [
    {
     "name": "stdout",
     "output_type": "stream",
     "text": [
      "[  1   2   3   4   5   6   7   8   9  10  11  12  13  14  15  16  17  18\n",
      "  19  20  21  22  23  24  25  26  27  28  29  30  31  32  33  34  35  36\n",
      "  37  38  39  40  41  42  43  44  45  46  47  48  49  50  51  52  53  54\n",
      "  55  56  57  58  59  60  61  62  63  64  65  66  67  68  69  70  71  72\n",
      "  73  74  75  76  77  78  79  80  81  82  83  84  85  86  87  88  89  90\n",
      "  91  92  93  94  95  96  97  98  99 100 101 102 103 104 105 106 107 108\n",
      " 109 110 111 112 113 114 115 116 117 118 119 120 121 122 123 124 125 126\n",
      " 127 128 129 130 131 132 133 134 135 136 137 138 139 140 141 142 143 144\n",
      " 145 146 147 148 149 150 151 152 153 154 155 156 157 158 159 160 161 162\n",
      " 163 164 165 166 167 168 169 170 171 172 173 174 175 176 177 178 179 180\n",
      " 181 182 183 184 185 186 187 188 189 190 191 192 193 194 195 196 197 198\n",
      " 199 200]\n",
      "200\n"
     ]
    }
   ],
   "source": [
    "df= read_csv('./raw_data_SetA/raw_data_200.csv')\n",
    "SetA=np.unique(df['Patient_id'])\n",
    "print(SetA)\n",
    "print(len(SetA))"
   ]
  },
  {
   "cell_type": "code",
   "execution_count": 27,
   "metadata": {},
   "outputs": [
    {
     "name": "stdout",
     "output_type": "stream",
     "text": [
      "./raw_data_SetB/raw_data_4000.csv\n",
      "A: 3999\n"
     ]
    }
   ],
   "source": [
    "data_size = 4000\n",
    "\n",
    "# dataset = setA\n",
    "# train_csv = a_traincsv\n",
    "# filename = './raw_data_SetA/raw_data_'+str(data_size)+'.csv'\n",
    "dataset = setB\n",
    "train_csv = b_traincsv\n",
    "filename = './raw_data_SetB/raw_data_'+str(data_size)+'.csv'\n",
    "\n",
    "print(filename)\n",
    "with open(filename, 'w') as csvoutput:\n",
    "    writer = csv.writer(csvoutput, lineterminator='\\n')\n",
    "    \n",
    "    for ind, csv_name in enumerate(train_csv):\n",
    "        with open(dataset + csv_name,'r') as csvinput:\n",
    "            reader = csv.reader(csvinput, delimiter='|')\n",
    "            all = []\n",
    "            if ind ==0 :\n",
    "                row = next(reader)\n",
    "                row.append('Patient_id')\n",
    "                row.append('time')\n",
    "                all.append(row)\n",
    "            else:\n",
    "                row = next(reader)\n",
    "\n",
    "            for i,row in enumerate(reader):\n",
    "                row.append(ind+1)\n",
    "                row.append(i)\n",
    "                all.append(row)\n",
    "            writer.writerows(all)\n",
    "\n",
    "        num = ind\n",
    "        if ind == (data_size-1):\n",
    "            print('A:',ind)\n",
    "            break"
   ]
  },
  {
   "cell_type": "code",
   "execution_count": 103,
   "metadata": {},
   "outputs": [
    {
     "name": "stdout",
     "output_type": "stream",
     "text": [
      "(77771, 43)\n"
     ]
    },
    {
     "data": {
      "text/plain": [
       "1134    327\n",
       "1946    320\n",
       "1016    271\n",
       "1785    260\n",
       "1504    260\n",
       "       ... \n",
       "1640      8\n",
       "864       8\n",
       "1882      8\n",
       "523       8\n",
       "1055      8\n",
       "Name: Patient_id, Length: 2001, dtype: int64"
      ]
     },
     "execution_count": 103,
     "metadata": {},
     "output_type": "execute_result"
    }
   ],
   "source": [
    "df = pd.read_csv(filename)\n",
    "print(df.shape)\n",
    "df.head(15)\n",
    "df['Patient_id'].value_counts()"
   ]
  },
  {
   "cell_type": "code",
   "execution_count": null,
   "metadata": {},
   "outputs": [],
   "source": []
  }
 ],
 "metadata": {
  "kernelspec": {
   "display_name": "Python 3",
   "language": "python",
   "name": "python3"
  },
  "language_info": {
   "codemirror_mode": {
    "name": "ipython",
    "version": 3
   },
   "file_extension": ".py",
   "mimetype": "text/x-python",
   "name": "python",
   "nbconvert_exporter": "python",
   "pygments_lexer": "ipython3",
   "version": "3.8.5"
  }
 },
 "nbformat": 4,
 "nbformat_minor": 4
}
